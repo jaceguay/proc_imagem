{
 "cells": [
  {
   "cell_type": "markdown",
   "metadata": {},
   "source": [
    "- Separar imagens de alta resolução em partes menores;\n",
    "- Segmentar utilizando apontoamentos pelo usuário;\n",
    "- Converter em arquivos vetoriais;\n",
    "- unir em um único arquivo."
   ]
  },
  {
   "cell_type": "code",
   "execution_count": null,
   "metadata": {},
   "outputs": [],
   "source": [
    "import os\n",
    "from samgeo import tms_to_geotiff, split_raster\n",
    "from samgeo.text_sam import LangSAM"
   ]
  },
  {
   "cell_type": "code",
   "execution_count": null,
   "metadata": {},
   "outputs": [],
   "source": [
    "# carregar imagem\n",
    "\n",
    "image = '/Users/jac/Documents/temp/imgs_drone_praia_brava/100_mosaico_recorte.tif'\n"
   ]
  }
 ],
 "metadata": {
  "language_info": {
   "name": "python"
  }
 },
 "nbformat": 4,
 "nbformat_minor": 2
}
