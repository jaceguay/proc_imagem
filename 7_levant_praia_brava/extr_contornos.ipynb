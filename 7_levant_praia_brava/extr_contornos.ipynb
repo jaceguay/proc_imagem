{
 "cells": [
  {
   "cell_type": "markdown",
   "metadata": {},
   "source": [
    "- Separar imagens de alta resolução em partes menores;\n",
    "- Segmentar utilizando apontoamentos pelo usuário;\n",
    "- Converter em arquivos vetoriais;\n",
    "- unir em um único arquivo."
   ]
  },
  {
   "cell_type": "code",
   "execution_count": 1,
   "metadata": {},
   "outputs": [],
   "source": [
    "import os\n",
    "from samgeo import split_raster\n",
    "from samgeo import SamGeo"
   ]
  },
  {
   "cell_type": "code",
   "execution_count": 2,
   "metadata": {},
   "outputs": [],
   "source": [
    "# carregar imagem\n",
    "\n",
    "image = '../5_estudo_praia_brava/dados_google_earth/2019_07.tif'\n",
    "\n",
    "pasta_saida = f'saida/{os.path.splitext(os.path.basename(image))[0]}'\n",
    "\n",
    "pasta_tiles = f'{pasta_saida}/tiles'\n",
    "\n",
    "mascaras_saida = f'{pasta_saida}/masks'\n",
    "\n",
    "resultados = f'{pasta_saida}/resultados'\n",
    "\n",
    "os.makedirs(pasta_saida, exist_ok=True)\n",
    "os.makedirs(pasta_tiles, exist_ok=True)\n",
    "os.makedirs(mascaras_saida, exist_ok=True)\n",
    "os.makedirs(resultados, exist_ok=True)\n"
   ]
  },
  {
   "cell_type": "code",
   "execution_count": 3,
   "metadata": {},
   "outputs": [],
   "source": [
    "def apagar_arquivos(directory):\n",
    "    [os.remove(os.path.join(directory, file)) for file in os.listdir(directory) if os.path.isfile(os.path.join(directory, file))]\n",
    "\n",
    "apagar_arquivos(pasta_tiles)"
   ]
  },
  {
   "cell_type": "code",
   "execution_count": 4,
   "metadata": {},
   "outputs": [
    {
     "name": "stderr",
     "output_type": "stream",
     "text": [
      "/opt/homebrew/Caskroom/miniforge/base/envs/torch/lib/python3.11/site-packages/osgeo/gdal.py:312: FutureWarning: Neither gdal.UseExceptions() nor gdal.DontUseExceptions() has been explicitly called. In GDAL 4.0, exceptions will be enabled by default.\n",
      "  warnings.warn(\n"
     ]
    }
   ],
   "source": [
    "# dividir em pedaços menores, lidar com restrições de memória, quanto maior o tile_size, menor a qualidade da segmentação\n",
    "\n",
    "split_raster(image, out_dir=pasta_tiles, tile_size=(5000, 5000), overlap=0)"
   ]
  },
  {
   "cell_type": "code",
   "execution_count": 5,
   "metadata": {},
   "outputs": [
    {
     "data": {
      "text/plain": [
       "['tile_0_4.tif',\n",
       " 'tile_0_5.tif',\n",
       " 'tile_0_2.tif',\n",
       " 'tile_0_3.tif',\n",
       " 'tile_0_1.tif',\n",
       " 'tile_0_0.tif',\n",
       " 'tile_1_4.tif',\n",
       " 'tile_1_5.tif',\n",
       " 'tile_1_1.tif',\n",
       " 'tile_1_0.tif',\n",
       " 'tile_1_2.tif',\n",
       " 'tile_1_3.tif']"
      ]
     },
     "execution_count": 5,
     "metadata": {},
     "output_type": "execute_result"
    }
   ],
   "source": [
    "os.listdir(pasta_tiles)"
   ]
  },
  {
   "cell_type": "code",
   "execution_count": 6,
   "metadata": {},
   "outputs": [],
   "source": [
    "def list_tif_files(directory):\n",
    "    tif_files = {i: os.path.join(directory, file)\n",
    "                 for i, file in enumerate(os.listdir(directory), start=1)\n",
    "                 if file.endswith('.tif')}\n",
    "    return tif_files"
   ]
  },
  {
   "cell_type": "code",
   "execution_count": 7,
   "metadata": {},
   "outputs": [
    {
     "data": {
      "text/plain": [
       "{1: 'saida/2019_07/tiles/tile_0_4.tif',\n",
       " 2: 'saida/2019_07/tiles/tile_0_5.tif',\n",
       " 3: 'saida/2019_07/tiles/tile_0_2.tif',\n",
       " 4: 'saida/2019_07/tiles/tile_0_3.tif',\n",
       " 5: 'saida/2019_07/tiles/tile_0_1.tif',\n",
       " 6: 'saida/2019_07/tiles/tile_0_0.tif',\n",
       " 7: 'saida/2019_07/tiles/tile_1_4.tif',\n",
       " 8: 'saida/2019_07/tiles/tile_1_5.tif',\n",
       " 9: 'saida/2019_07/tiles/tile_1_1.tif',\n",
       " 10: 'saida/2019_07/tiles/tile_1_0.tif',\n",
       " 11: 'saida/2019_07/tiles/tile_1_2.tif',\n",
       " 12: 'saida/2019_07/tiles/tile_1_3.tif'}"
      ]
     },
     "execution_count": 7,
     "metadata": {},
     "output_type": "execute_result"
    }
   ],
   "source": [
    "conjunto_imagens = list_tif_files(pasta_tiles)\n",
    "conjunto_imagens"
   ]
  },
  {
   "cell_type": "code",
   "execution_count": 8,
   "metadata": {},
   "outputs": [],
   "source": [
    "sam = SamGeo(\n",
    "    model_type=\"vit_h\",\n",
    "    automatic=False,\n",
    "    sam_kwargs=None,\n",
    ")"
   ]
  },
  {
   "cell_type": "markdown",
   "metadata": {},
   "source": [
    "Repetir para todas as partes"
   ]
  },
  {
   "cell_type": "code",
   "execution_count": 9,
   "metadata": {},
   "outputs": [],
   "source": [
    "imagem_a_processar = conjunto_imagens[1]"
   ]
  },
  {
   "cell_type": "code",
   "execution_count": 10,
   "metadata": {},
   "outputs": [],
   "source": [
    "sam.set_image(imagem_a_processar)"
   ]
  },
  {
   "cell_type": "code",
   "execution_count": 11,
   "metadata": {},
   "outputs": [
    {
     "data": {
      "application/vnd.jupyter.widget-view+json": {
       "model_id": "e73ac8c9e2a346b785691ac8195fbc4f",
       "version_major": 2,
       "version_minor": 0
      },
      "text/plain": [
       "Map(center=[20, 0], controls=(ZoomControl(options=['position', 'zoom_in_text', 'zoom_in_title', 'zoom_out_text…"
      ]
     },
     "execution_count": 11,
     "metadata": {},
     "output_type": "execute_result"
    }
   ],
   "source": [
    "m = sam.show_map()\n",
    "m"
   ]
  }
 ],
 "metadata": {
  "kernelspec": {
   "display_name": "torch",
   "language": "python",
   "name": "python3"
  },
  "language_info": {
   "codemirror_mode": {
    "name": "ipython",
    "version": 3
   },
   "file_extension": ".py",
   "mimetype": "text/x-python",
   "name": "python",
   "nbconvert_exporter": "python",
   "pygments_lexer": "ipython3",
   "version": "3.11.6"
  }
 },
 "nbformat": 4,
 "nbformat_minor": 2
}
