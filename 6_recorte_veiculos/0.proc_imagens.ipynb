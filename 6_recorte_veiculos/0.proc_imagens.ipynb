{
 "cells": [
  {
   "cell_type": "code",
   "execution_count": null,
   "metadata": {},
   "outputs": [],
   "source": [
    "# carregar bibliotecas\n",
    "\n",
    "from samgeo.text_sam import LangSAM\n",
    "import glob\n",
    "import os\n",
    "import pandas as pd\n",
    "from PIL import Image\n",
    "import numpy as np"
   ]
  },
  {
   "cell_type": "code",
   "execution_count": null,
   "metadata": {},
   "outputs": [],
   "source": [
    "# escolha do modelo\n",
    "# vit_b(91M), vit_l(308M), vit_h(636M)\n",
    "\n",
    "sam = LangSAM(model_type='vit_b')"
   ]
  },
  {
   "cell_type": "code",
   "execution_count": null,
   "metadata": {},
   "outputs": [],
   "source": [
    "import os\n",
    "import glob\n",
    "from PIL import Image\n",
    "import numpy as np\n",
    "\n",
    "def processar_e_salvar_maior_mascara(caminho_pasta, formato, texto_prompt, box_t, text_t, pasta_saida):\n",
    "    \"\"\"\n",
    "    Processa as imagens de uma pasta, seleciona e salva o recorte da maior máscara.\n",
    "\n",
    "    Args:\n",
    "      caminho_pasta: Caminho da pasta que contém as imagens.\n",
    "      formato: Formato das imagens de entrada.\n",
    "      texto_prompt: Prompt de texto para a predição.\n",
    "      box_t: Threshold para a detecção de caixas delimitadoras.\n",
    "      text_t: Threshold para a detecção de texto.\n",
    "      pasta_saida: Pasta de saída dos arquivos.\n",
    "\n",
    "    Returns:\n",
    "      Nenhum.\n",
    "    \"\"\"\n",
    "\n",
    "    imagens = glob.glob(f\"{caminho_pasta}/*.{formato}\")\n",
    "    os.makedirs(pasta_saida, exist_ok=True)\n",
    "\n",
    "    for imagem in imagens:\n",
    "        print(f\"Processando imagem: {imagem}\")\n",
    "\n",
    "        # Processar imagem e obter máscara\n",
    "        resultado = sam.predict(image=imagem,\n",
    "                                text_prompt=texto_prompt,\n",
    "                                box_threshold=box_t,\n",
    "                                text_threshold=text_t)\n",
    "\n",
    "        if resultado is None:\n",
    "            print(f\"Nenhuma máscara encontrada em: {imagem}\")\n",
    "            continue\n",
    "\n",
    "        # Identificar a maior máscara\n",
    "        maior_mascara = max(resultado, key=lambda x: np.sum(x['mask']))\n",
    "\n",
    "        # Carregar imagem original\n",
    "        img_original = Image.open(imagem)\n",
    "\n",
    "        # Recortar a imagem com base na maior máscara\n",
    "        bbox = maior_mascara['bbox']  # bbox é uma tupla (x_min, y_min, x_max, y_max)\n",
    "        recorte = img_original.crop(bbox)\n",
    "\n",
    "        # Salvar recorte\n",
    "        caminho_saida = f\"{pasta_saida}/{os.path.basename(imagem)}_{texto_prompt}.png\"\n",
    "        recorte.save(caminho_saida)\n",
    "\n",
    "        print(f\"Recorte salvo: {caminho_saida}\")\n"
   ]
  },
  {
   "cell_type": "code",
   "execution_count": null,
   "metadata": {},
   "outputs": [],
   "source": [
    "# Uso\n",
    "\n",
    "# caminho_pasta = 'G:\\\\drone_img_sam\\\\praia_brava_16-12-2023\\\\101MEDIA_georref\\\\'\n",
    "caminho_pasta = '/Users/jac/Documents/temp/imgs_drone_praia_brava/101_georref'\n",
    "formato = 'png'\n",
    "texto_prompt = 'car'\n",
    "box_t = 0.19\n",
    "text_t = 0.19\n",
    "pasta_saida = 'saida/processamento_lote/pessoas0.19'\n",
    "\n",
    "processar_imagens(caminho_pasta, formato, texto_prompt,\n",
    "                  box_t, text_t, pasta_saida)\n",
    "\n",
    "unir_shapefiles(pasta_saida)"
   ]
  }
 ],
 "metadata": {
  "kernelspec": {
   "display_name": "base",
   "language": "python",
   "name": "python3"
  },
  "language_info": {
   "codemirror_mode": {
    "name": "ipython",
    "version": 3
   },
   "file_extension": ".py",
   "mimetype": "text/x-python",
   "name": "python",
   "nbconvert_exporter": "python",
   "pygments_lexer": "ipython3",
   "version": "3.11.5"
  }
 },
 "nbformat": 4,
 "nbformat_minor": 2
}
