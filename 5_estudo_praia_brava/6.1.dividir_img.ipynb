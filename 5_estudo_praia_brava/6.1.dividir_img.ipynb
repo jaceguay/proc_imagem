{
 "cells": [
  {
   "cell_type": "code",
   "execution_count": null,
   "metadata": {},
   "outputs": [],
   "source": [
    "import os\n",
    "from samgeo import tms_to_geotiff, split_raster\n",
    "from samgeo.text_sam import LangSAM"
   ]
  },
  {
   "cell_type": "code",
   "execution_count": null,
   "metadata": {},
   "outputs": [],
   "source": [
    "# imagem\n",
    "\n",
    "image = '/Users/jac/Documents/temp/imgs_drone_praia_brava/100_mosaico_recorte.tif'\n",
    "# image = '/Users/jac/Documents/temp/imgs_drone_praia_brava/101_georref/DJI_0001_georeferenced.png'"
   ]
  }
 ],
 "metadata": {
  "language_info": {
   "name": "python"
  }
 },
 "nbformat": 4,
 "nbformat_minor": 2
}
