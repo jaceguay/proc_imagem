{
 "cells": [
  {
   "cell_type": "code",
   "execution_count": 1,
   "metadata": {},
   "outputs": [],
   "source": [
    "# carregar bibliotecas\n",
    "\n",
    "from samgeo.text_sam import LangSAM\n",
    "import glob\n",
    "import os\n",
    "import pandas as pd\n",
    "import geopandas as gpd"
   ]
  },
  {
   "cell_type": "code",
   "execution_count": 2,
   "metadata": {},
   "outputs": [
    {
     "name": "stdout",
     "output_type": "stream",
     "text": [
      "final text_encoder_type: bert-base-uncased\n"
     ]
    }
   ],
   "source": [
    "# escolha do modelo\n",
    "# vit_b(91M), vit_l(308M), vit_h(636M)\n",
    "\n",
    "sam = LangSAM(model_type='vit_l')"
   ]
  },
  {
   "cell_type": "code",
   "execution_count": 3,
   "metadata": {},
   "outputs": [],
   "source": [
    "def processar_imagens(caminho_pasta, formato, texto_prompt, box_t, text_t, pasta_saida):\n",
    "    \"\"\"\n",
    "    Processa todas as imagens de uma pasta.\n",
    "\n",
    "    Args:\n",
    "      caminho_pasta: Caminho da pasta que contém as imagens.\n",
    "      formato: Formato das imagens de entrada.\n",
    "      texto_prompt: Prompt de texto para a predição.\n",
    "      box_t: Threshold para a detecção de caixas delimitadoras.\n",
    "      text_t: Threshold para a detecção de texto.\n",
    "      pasta_saida: Pasta de saída dos arquivos.\n",
    "\n",
    "    Returns:\n",
    "      Nenhum.\n",
    "    \"\"\"\n",
    "\n",
    "    # Obter as imagens da pasta\n",
    "    imagens = glob.glob(f\"{caminho_pasta}/*.{formato}\")\n",
    "\n",
    "    # Criar a pasta de saída, ignorando se ela já existir\n",
    "    os.makedirs(pasta_saida, exist_ok=True)\n",
    "\n",
    "    # Processar as imagens\n",
    "    for imagem in imagens:\n",
    "        # Criar o caminho da saída\n",
    "        caminho_saida = f\"{pasta_saida}/{os.path.basename(imagem)}_mascara.tif\"\n",
    "        print(f\"Processando imagem: {imagem}\")\n",
    "\n",
    "        # Criar a máscara\n",
    "        resultado = sam.predict(image=imagem,\n",
    "                                text_prompt=texto_prompt,\n",
    "                                box_threshold=box_t,\n",
    "                                text_threshold=text_t,\n",
    "                                output=caminho_saida)\n",
    "\n",
    "        # Verificar se o arquivo de máscara foi criado\n",
    "        if not os.path.exists(caminho_saida):\n",
    "            print(f\"Arquivo de máscara não encontrado: {caminho_saida}\")\n",
    "            continue\n",
    "\n",
    "        print(\"Exportando máscara e caixas delimitadoras para shapefile.\")\n",
    "        # Exportar a máscara e caixas delimitadoras para shapefile\n",
    "        shapefile_saida = f\"{pasta_saida}/{os.path.basename(imagem)}__{texto_prompt}.shp\"\n",
    "        boxes_saida = f\"{pasta_saida}/{os.path.basename(imagem)}__{texto_prompt}_boxes.shp\"\n",
    "        sam.raster_to_vector(caminho_saida, shapefile_saida)\n",
    "        LangSAM.save_boxes(sam, boxes_saida)\n",
    "\n",
    "        print(\"Exportação concluída.\")"
   ]
  },
  {
   "cell_type": "code",
   "execution_count": 4,
   "metadata": {},
   "outputs": [],
   "source": [
    "def unir_shapefiles(caminho_pasta):\n",
    "    \"\"\"\n",
    "    Une todos os arquivos shapefile em uma pasta, exceto os chamados 'uniao.shp' e 'uniao_boxes.shp'.\n",
    "    Converte todos os shapefiles para o CRS 'SIRGAS 2000 / UTM zone 22S'.\n",
    "\n",
    "    Args:\n",
    "      caminho_pasta: Caminho da pasta que contém os arquivos shapefile.\n",
    "\n",
    "    Returns:\n",
    "      Nenhum.\n",
    "    \"\"\"\n",
    "\n",
    "    # Definir o CRS desejado\n",
    "    crs_desejado = \"EPSG:31982\"  # SIRGAS 2000 / UTM zone 22S\n",
    "\n",
    "    # Listar todos os arquivos .shp na pasta, excluindo 'uniao.shp' e 'uniao_boxes.shp'\n",
    "    arquivos_shp = [f for f in glob.glob(f\"{caminho_pasta}/*.shp\") if not (\n",
    "        os.path.basename(f) == 'uniao.shp' or os.path.basename(f) == 'uniao_boxes.shp')]\n",
    "\n",
    "    if not arquivos_shp:\n",
    "        print(\"Sem resultados: Nenhum arquivo .shp encontrado na pasta.\")\n",
    "        return\n",
    "\n",
    "    # Separar os shapefiles em dois grupos: com e sem '_boxes'\n",
    "    arquivos_boxes = [\n",
    "        shp for shp in arquivos_shp if '_boxes.shp' in os.path.basename(shp)]\n",
    "    arquivos_gerais = [\n",
    "        shp for shp in arquivos_shp if not '_boxes.shp' in os.path.basename(shp)]\n",
    "\n",
    "    # Função para ler, verificar CRS e unir shapefiles\n",
    "    def processar_e_unir_shapefiles(arquivos, nome_saida):\n",
    "        gdfs = []\n",
    "        for shp in arquivos:\n",
    "            gdf = gpd.read_file(shp)\n",
    "            if gdf.crs is None or gdf.crs.to_string() != crs_desejado:\n",
    "                gdf = gdf.to_crs(crs_desejado)\n",
    "            gdfs.append(gdf)\n",
    "\n",
    "        if gdfs:\n",
    "            gdf_unido = gpd.GeoDataFrame(\n",
    "                pd.concat(gdfs, ignore_index=True), crs=crs_desejado)\n",
    "            caminho_saida = os.path.join(caminho_pasta, nome_saida)\n",
    "            gdf_unido.to_file(caminho_saida)\n",
    "            print(\n",
    "                f\"Shapefile '{nome_saida}' unido com sucesso e salvo em: {caminho_saida}\")\n",
    "        else:\n",
    "            print(f\"Sem arquivos para unir em '{nome_saida}'.\")\n",
    "\n",
    "    # Processar e unir os shapefiles gerais\n",
    "    processar_e_unir_shapefiles(arquivos_gerais, 'uniao.shp')\n",
    "\n",
    "    # Processar e unir os shapefiles com '_boxes'\n",
    "    processar_e_unir_shapefiles(arquivos_boxes, 'uniao_boxes.shp')"
   ]
  },
  {
   "cell_type": "code",
   "execution_count": 10,
   "metadata": {},
   "outputs": [
    {
     "name": "stdout",
     "output_type": "stream",
     "text": [
      "Processando imagem: /Users/jac/Documents/temp/imgs_drone_praia_brava/101_georref/DJI_0008_georeferenced.png\n",
      "Exportando máscara e caixas delimitadoras para shapefile.\n",
      "Exportação concluída.\n",
      "Processando imagem: /Users/jac/Documents/temp/imgs_drone_praia_brava/101_georref/DJI_0001_georeferenced.png\n",
      "Exportando máscara e caixas delimitadoras para shapefile.\n",
      "Exportação concluída.\n",
      "Processando imagem: /Users/jac/Documents/temp/imgs_drone_praia_brava/101_georref/DJI_0006_georeferenced.png\n",
      "Exportando máscara e caixas delimitadoras para shapefile.\n",
      "Exportação concluída.\n",
      "Shapefile 'uniao.shp' unido com sucesso e salvo em: saida/processamento_lote/pessoas0.19/uniao.shp\n",
      "Shapefile 'uniao_boxes.shp' unido com sucesso e salvo em: saida/processamento_lote/pessoas0.19/uniao_boxes.shp\n"
     ]
    }
   ],
   "source": [
    "# Uso\n",
    "\n",
    "# caminho_pasta = 'G:\\\\drone_img_sam\\\\praia_brava_16-12-2023\\\\101MEDIA_georref\\\\'\n",
    "caminho_pasta = '/Users/jac/Documents/temp/imgs_drone_praia_brava/101_georref'\n",
    "formato = 'png'\n",
    "texto_prompt = 'person'\n",
    "box_t = 0.19\n",
    "text_t = 0.19\n",
    "pasta_saida = 'saida/processamento_lote/pessoas0.19'\n",
    "\n",
    "processar_imagens(caminho_pasta, formato, texto_prompt,\n",
    "                  box_t, text_t, pasta_saida)\n",
    "\n",
    "unir_shapefiles(pasta_saida)"
   ]
  }
 ],
 "metadata": {
  "kernelspec": {
   "display_name": "base",
   "language": "python",
   "name": "python3"
  },
  "language_info": {
   "codemirror_mode": {
    "name": "ipython",
    "version": 3
   },
   "file_extension": ".py",
   "mimetype": "text/x-python",
   "name": "python",
   "nbconvert_exporter": "python",
   "pygments_lexer": "ipython3",
   "version": "3.11.6"
  }
 },
 "nbformat": 4,
 "nbformat_minor": 2
}
