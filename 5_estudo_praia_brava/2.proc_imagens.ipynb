{
 "cells": [
  {
   "cell_type": "code",
   "execution_count": 1,
   "metadata": {},
   "outputs": [],
   "source": [
    "# carregar bibliotecas\n",
    "\n",
    "from samgeo.text_sam import LangSAM\n",
    "import glob\n",
    "import os"
   ]
  },
  {
   "cell_type": "code",
   "execution_count": 2,
   "metadata": {},
   "outputs": [
    {
     "name": "stdout",
     "output_type": "stream",
     "text": [
      "final text_encoder_type: bert-base-uncased\n"
     ]
    }
   ],
   "source": [
    "# escolha do modelo\n",
    "# vit_b(91M), vit_l(308M), vit_h(636M)\n",
    "\n",
    "sam = LangSAM(model_type='vit_b')"
   ]
  },
  {
   "cell_type": "code",
   "execution_count": 3,
   "metadata": {},
   "outputs": [],
   "source": [
    "def processar_imagens(caminho_pasta, texto_prompt, box_t, text_t, pasta_saida):\n",
    "  \"\"\"\n",
    "  Processa todas as imagens de uma pasta.\n",
    "\n",
    "  Args:\n",
    "    caminho_pasta: Caminho da pasta que contém as imagens.\n",
    "    texto_prompt: Prompt de texto para a predição.\n",
    "    box_t: Threshold para a detecção de caixas delimitadoras.\n",
    "    text_t: Threshold para a detecção de texto.\n",
    "    pasta_saida: Pasta de saída dos arquivos.\n",
    "\n",
    "  Returns:\n",
    "    Nenhum.\n",
    "  \"\"\"\n",
    "\n",
    "  # Obter as imagens da pasta\n",
    "  imagens = glob.glob(f\"{caminho_pasta}/*.jpg\")\n",
    "\n",
    "  # Criar a pasta de saída\n",
    "  os.makedirs(pasta_saida)\n",
    "\n",
    "  # Processar as imagens\n",
    "  for imagem in imagens:\n",
    "    # Criar o caminho da saída\n",
    "    caminho_saida = f\"{pasta_saida}/{os.path.basename(imagem)}_mascara.tif\"\n",
    "\n",
    "    # Criar a máscara\n",
    "    mascaras = sam.predict(image=imagem,\n",
    "                            text_prompt=texto_prompt,\n",
    "                            box_threshold=box_t,\n",
    "                            text_threshold=text_t,\n",
    "                            output=caminho_saida)\n",
    "\n",
    "    # Exportar a máscara e caixas delimitadoras para shapefile\n",
    "    shapefile_saida = f\"{pasta_saida}/{os.path.basename(imagem)}__{texto_prompt}.shp\"\n",
    "    boxes_saida = f\"{pasta_saida}/{os.path.basename(imagem)}__{texto_prompt}_boxes.shp\"\n",
    "\n",
    "    sam.raster_to_vector(caminho_saida, shapefile_saida)\n",
    "    LangSAM.save_boxes(sam, boxes_saida)"
   ]
  },
  {
   "cell_type": "code",
   "execution_count": 4,
   "metadata": {},
   "outputs": [],
   "source": [
    "# Exemplo de uso\n",
    "\n",
    "caminho_pasta = 'G:\\\\drone_img_sam\\\\praia_brava_16-12-2023\\\\101MEDIA_georref\\\\'\n",
    "texto_prompt = 'vegetation'\n",
    "box_t = 0.5\n",
    "text_t = 0.5\n",
    "pasta_saida = 'saida/processamento_lote/vegetacao0.5'\n",
    "\n",
    "processar_imagens(caminho_pasta, texto_prompt, box_t, text_t, pasta_saida)"
   ]
  }
 ],
 "metadata": {
  "kernelspec": {
   "display_name": "base",
   "language": "python",
   "name": "python3"
  },
  "language_info": {
   "codemirror_mode": {
    "name": "ipython",
    "version": 3
   },
   "file_extension": ".py",
   "mimetype": "text/x-python",
   "name": "python",
   "nbconvert_exporter": "python",
   "pygments_lexer": "ipython3",
   "version": "3.11.5"
  }
 },
 "nbformat": 4,
 "nbformat_minor": 2
}
