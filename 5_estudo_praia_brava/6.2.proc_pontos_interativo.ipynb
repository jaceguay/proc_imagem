{
 "cells": [
  {
   "cell_type": "code",
   "execution_count": 1,
   "metadata": {},
   "outputs": [],
   "source": [
    "import os\n",
    "import leafmap\n",
    "from samgeo import SamGeo, tms_to_geotiff\n",
    "from datetime import datetime\n",
    "import json"
   ]
  },
  {
   "cell_type": "code",
   "execution_count": 2,
   "metadata": {},
   "outputs": [],
   "source": [
    "# Obtendo a data e hora atual\n",
    "now = datetime.now()\n",
    "formatted_date = now.strftime(\"%Y_%m_%d_%H_%M\")\n",
    "\n",
    "def extract_coordinates(geojson_file):\n",
    "    with open(geojson_file, 'r') as file:\n",
    "        data = json.load(file)\n",
    "\n",
    "    point_coords = []\n",
    "    for feature in data['features']:\n",
    "        if feature['geometry']['type'] == 'Point':\n",
    "            point_coords.append(feature['geometry']['coordinates'])\n",
    "\n",
    "    return point_coords"
   ]
  },
  {
   "cell_type": "markdown",
   "metadata": {},
   "source": [
    "### Modelo"
   ]
  },
  {
   "cell_type": "code",
   "execution_count": 3,
   "metadata": {},
   "outputs": [],
   "source": [
    "# vit_b(91M), vit_l(308M), vit_h(636M)\n",
    "\n",
    "sam = SamGeo(\n",
    "    model_type=\"vit_b\",\n",
    "    automatic=False,\n",
    "    sam_kwargs=None,\n",
    ")"
   ]
  },
  {
   "cell_type": "markdown",
   "metadata": {},
   "source": [
    "### Imagem a ser segmentada"
   ]
  },
  {
   "cell_type": "code",
   "execution_count": 4,
   "metadata": {},
   "outputs": [],
   "source": [
    "# imagem\n",
    "\n",
    "image = \"dados_google_earth/2009_08_recorte.tif\"\n",
    "\n",
    "# pasta saída, arquivo saída\n",
    "\n",
    "pasta_saida = f'saida/mascaras_por_ponto/{os.path.splitext(os.path.basename(image))[0]}'\n",
    "\n",
    "os.makedirs(pasta_saida, exist_ok=True)\n",
    "\n",
    "mascaras_geradas = f'{pasta_saida}/mascaras_{formatted_date}.tif'"
   ]
  },
  {
   "cell_type": "code",
   "execution_count": 5,
   "metadata": {},
   "outputs": [],
   "source": [
    "sam.set_image(image)"
   ]
  },
  {
   "cell_type": "code",
   "execution_count": 9,
   "metadata": {},
   "outputs": [],
   "source": [
    "m = leafmap.Map(center=[-26.9565, -48.6294], zoom=19, height=\"400px\")\n",
    "# m.add_basemap(\"SATELLITE\")\n",
    "\n",
    "m.add_raster(image, layer_name=\"2009_08\")"
   ]
  },
  {
   "cell_type": "code",
   "execution_count": 10,
   "metadata": {},
   "outputs": [
    {
     "data": {
      "application/vnd.jupyter.widget-view+json": {
       "model_id": "4dd555e834aa4935a928ad879c033ac3",
       "version_major": 2,
       "version_minor": 0
      },
      "text/plain": [
       "Map(center=[20, 0], controls=(ZoomControl(options=['position', 'zoom_in_text', 'zoom_in_title', 'zoom_out_text…"
      ]
     },
     "execution_count": 10,
     "metadata": {},
     "output_type": "execute_result"
    }
   ],
   "source": [
    "m = sam.show_map()\n",
    "m"
   ]
  }
 ],
 "metadata": {
  "kernelspec": {
   "display_name": "torch",
   "language": "python",
   "name": "python3"
  },
  "language_info": {
   "codemirror_mode": {
    "name": "ipython",
    "version": 3
   },
   "file_extension": ".py",
   "mimetype": "text/x-python",
   "name": "python",
   "nbconvert_exporter": "python",
   "pygments_lexer": "ipython3",
   "version": "3.11.6"
  }
 },
 "nbformat": 4,
 "nbformat_minor": 2
}
