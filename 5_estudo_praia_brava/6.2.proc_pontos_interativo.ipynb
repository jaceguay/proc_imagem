{
 "cells": [
  {
   "cell_type": "code",
   "execution_count": 1,
   "metadata": {},
   "outputs": [],
   "source": [
    "import os\n",
    "import leafmap\n",
    "from samgeo import SamGeo, tms_to_geotiff\n",
    "from datetime import datetime\n",
    "import json"
   ]
  },
  {
   "cell_type": "code",
   "execution_count": 2,
   "metadata": {},
   "outputs": [],
   "source": [
    "# Obtendo a data e hora atual\n",
    "now = datetime.now()\n",
    "formatted_date = now.strftime(\"%Y_%m_%d_%H_%M\")\n",
    "\n",
    "def extract_coordinates(geojson_file):\n",
    "    with open(geojson_file, 'r') as file:\n",
    "        data = json.load(file)\n",
    "\n",
    "    point_coords = []\n",
    "    for feature in data['features']:\n",
    "        if feature['geometry']['type'] == 'Point':\n",
    "            point_coords.append(feature['geometry']['coordinates'])\n",
    "\n",
    "    return point_coords"
   ]
  },
  {
   "cell_type": "markdown",
   "metadata": {},
   "source": [
    "### Modelo"
   ]
  },
  {
   "cell_type": "code",
   "execution_count": 3,
   "metadata": {},
   "outputs": [],
   "source": [
    "# vit_b(91M), vit_l(308M), vit_h(636M)\n",
    "\n",
    "sam = SamGeo(\n",
    "    model_type=\"vit_b\",\n",
    "    automatic=False,\n",
    "    sam_kwargs=None,\n",
    ")"
   ]
  },
  {
   "cell_type": "markdown",
   "metadata": {},
   "source": [
    "### Imagem a ser segmentada"
   ]
  },
  {
   "cell_type": "code",
   "execution_count": 4,
   "metadata": {},
   "outputs": [
    {
     "name": "stdout",
     "output_type": "stream",
     "text": [
      "Using band 4 of source image as alpha.\n",
      "Creating output file that is 1461P x 3429L.\n",
      "Processing dados_google_earth/2022_04_recorte.tif [1/1] : 0...10...20...30...40...50...60...70...80...90...100 - done.\n"
     ]
    }
   ],
   "source": [
    "# imagem\n",
    "\n",
    "image = \"dados_google_earth/2022_04_recorte.tif\"\n",
    "#image = 'dados_drone/2023_12.tif'\n",
    "\n",
    "\n",
    "# pasta saída, arquivo saída\n",
    "\n",
    "pasta_saida = f'saida/mascaras_por_ponto/{os.path.splitext(os.path.basename(image))[0]}'\n",
    "\n",
    "os.makedirs(pasta_saida, exist_ok=True)\n",
    "\n",
    "mascaras_geradas = f'{pasta_saida}/mascaras_{formatted_date}.tif'\n",
    "\n",
    "# reprojetar imagem para 3857\n",
    "\n",
    "image_3857 = f'{pasta_saida}/{os.path.splitext(os.path.basename(image))[0]}_3857.tif'\n",
    "\n",
    "!gdalwarp -t_srs EPSG:3857 -r near -of GTiff {image} {image_3857}"
   ]
  },
  {
   "cell_type": "code",
   "execution_count": 5,
   "metadata": {},
   "outputs": [],
   "source": [
    "sam.set_image(image_3857)"
   ]
  },
  {
   "cell_type": "code",
   "execution_count": 6,
   "metadata": {},
   "outputs": [],
   "source": [
    "m = leafmap.Map(center=[-26.9565, -48.6294], zoom=19, height=\"400px\")\n",
    "# m.add_basemap(\"SATELLITE\")\n",
    "\n",
    "m.add_raster(image_3857, layer_name=\"2009_08\")"
   ]
  },
  {
   "cell_type": "code",
   "execution_count": 7,
   "metadata": {
    "scrolled": true
   },
   "outputs": [
    {
     "data": {
      "application/vnd.jupyter.widget-view+json": {
       "model_id": "6859f61b02314cfd852ea85ff36b971b",
       "version_major": 2,
       "version_minor": 0
      },
      "text/plain": [
       "Map(center=[20, 0], controls=(ZoomControl(options=['position', 'zoom_in_text', 'zoom_in_title', 'zoom_out_text…"
      ]
     },
     "execution_count": 7,
     "metadata": {},
     "output_type": "execute_result"
    }
   ],
   "source": [
    "m = sam.show_map()\n",
    "m"
   ]
  }
 ],
 "metadata": {
  "kernelspec": {
   "display_name": "Python 3 (ipykernel)",
   "language": "python",
   "name": "python3"
  },
  "language_info": {
   "codemirror_mode": {
    "name": "ipython",
    "version": 3
   },
   "file_extension": ".py",
   "mimetype": "text/x-python",
   "name": "python",
   "nbconvert_exporter": "python",
   "pygments_lexer": "ipython3",
   "version": "3.11.6"
  }
 },
 "nbformat": 4,
 "nbformat_minor": 4
}
