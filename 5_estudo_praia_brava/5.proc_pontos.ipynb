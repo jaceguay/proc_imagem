{
 "cells": [
  {
   "cell_type": "code",
   "execution_count": 1,
   "metadata": {},
   "outputs": [],
   "source": [
    "import os\n",
    "import leafmap\n",
    "from samgeo import SamGeo, tms_to_geotiff\n",
    "from datetime import datetime\n",
    "import json"
   ]
  },
  {
   "cell_type": "code",
   "execution_count": 2,
   "metadata": {},
   "outputs": [],
   "source": [
    "# Obtendo a data e hora atual\n",
    "now = datetime.now()\n",
    "formatted_date = now.strftime(\"%Y_%m_%d_%H_%M\")\n",
    "\n",
    "def extract_coordinates(geojson_file):\n",
    "    with open(geojson_file, 'r') as file:\n",
    "        data = json.load(file)\n",
    "\n",
    "    point_coords = []\n",
    "    for feature in data['features']:\n",
    "        if feature['geometry']['type'] == 'Point':\n",
    "            point_coords.append(feature['geometry']['coordinates'])\n",
    "\n",
    "    return point_coords"
   ]
  },
  {
   "cell_type": "markdown",
   "metadata": {},
   "source": [
    "### Modelo"
   ]
  },
  {
   "cell_type": "code",
   "execution_count": 3,
   "metadata": {},
   "outputs": [],
   "source": [
    "# vit_b(91M), vit_l(308M), vit_h(636M)\n",
    "\n",
    "sam = SamGeo(\n",
    "    model_type=\"vit_b\",\n",
    "    automatic=False,\n",
    "    sam_kwargs=None,\n",
    ")"
   ]
  },
  {
   "cell_type": "markdown",
   "metadata": {},
   "source": [
    "### Imagem a ser segmentada"
   ]
  },
  {
   "cell_type": "code",
   "execution_count": 4,
   "metadata": {},
   "outputs": [],
   "source": [
    "# imagem\n",
    "\n",
    "image = \"C:\\\\Users\\\\jac\\\\git\\\\proc_imagem\\\\5_estudo_praia_brava\\\\dados_google_earth\\\\2023_05.tif\"\n",
    "\n",
    "# pasta saída, arquivo saída\n",
    "\n",
    "pasta_saida = f'saida/mascaras_por_ponto/{os.path.splitext(os.path.basename(image))[0]}'\n",
    "\n",
    "os.makedirs(pasta_saida, exist_ok=True)\n",
    "\n",
    "mascaras_geradas = f'{pasta_saida}/mascaras_{formatted_date}.tif'"
   ]
  },
  {
   "cell_type": "code",
   "execution_count": 5,
   "metadata": {},
   "outputs": [],
   "source": [
    "sam.set_image(image)"
   ]
  },
  {
   "cell_type": "code",
   "execution_count": 6,
   "metadata": {},
   "outputs": [
    {
     "name": "stdout",
     "output_type": "stream",
     "text": [
      "[[735612.138252, 7018831.894886], [735607.402886, 7018811.860645], [735602.66752, 7018780.170119], [735592.104012, 7018718.97462], [735582.269021, 7018654.865049], [735571.341253, 7018597.312139], [735561.506262, 7018541.944783], [735544.021834, 7018445.051909], [735534.186843, 7018391.141589], [735519.252227, 7018314.282956], [735502.860575, 7018216.297306], [735494.48262, 7018170.76494], [735517.430932, 7018172.221976], [735486.833183, 7018132.882012], [735482.097817, 7018104.834075], [735499.217986, 7018065.858371], [735478.455228, 7018053.473567], [735458.785246, 7017943.831631], [735467.891719, 7017913.233882], [735448.585996, 7017826.540258], [735426.001943, 7017622.91952], [735410.338809, 7017500.164263], [735399.7753, 7017405.456943], [735392.854381, 7017344.625703], [735384.840684, 7017278.330579], [735380.833836, 7017223.69174], [735368.084774, 7017102.757778], [735373.184399, 7017142.097742], [735364.806444, 7017061.59652], [735354.971453, 7016974.174378], [735347.686274, 7016906.422219], [735339.308319, 7016817.9073], [735328.74481, 7016702.801481], [735317.088525, 7016572.032527], [735309.439087, 7016505.373144], [735307.982052, 7016455.105413], [735306.889275, 7016405.20194], [735306.525016, 7016361.49087], [735309.803346, 7016321.422388], [735313.445935, 7016260.591148], [735314.902971, 7016236.550059], [735314.538712, 7016212.873229], [735326.923516, 7016144.392552], [735336.758507, 7016096.674633], [735348.050533, 7016055.149115], [735354.607194, 7016024.551366], [735358.614042, 7016017.266187], [735371.363104, 7015964.812903], [735383.383649, 7015918.18776], [735401.232336, 7015856.263743], [735413.981398, 7015823.48044], [735409.246032, 7015811.824155], [735395.768452, 7015812.188414]]\n"
     ]
    }
   ],
   "source": [
    "# pontos e detecção\n",
    "\n",
    "point_coords = extract_coordinates(\"C:\\\\Users\\\\jac\\\\git\\\\proc_imagem\\\\5_estudo_praia_brava\\\\dados_google_earth\\\\2023_05.geojson\")\n",
    "\n",
    "print(point_coords)"
   ]
  },
  {
   "cell_type": "code",
   "execution_count": 9,
   "metadata": {},
   "outputs": [
    {
     "ename": "AttributeError",
     "evalue": "'SamGeo' object has no attribute 'predict_batch'",
     "output_type": "error",
     "traceback": [
      "\u001b[1;31m---------------------------------------------------------------------------\u001b[0m",
      "\u001b[1;31mAttributeError\u001b[0m                            Traceback (most recent call last)",
      "Cell \u001b[1;32mIn[9], line 1\u001b[0m\n\u001b[1;32m----> 1\u001b[0m sam\u001b[38;5;241m.\u001b[39mpredict_batch(point_coords, point_labels\u001b[38;5;241m=\u001b[39m\u001b[38;5;241m1\u001b[39m, point_crs\u001b[38;5;241m=\u001b[39m\u001b[38;5;124m\"\u001b[39m\u001b[38;5;124mEPSG:31982\u001b[39m\u001b[38;5;124m\"\u001b[39m, output\u001b[38;5;241m=\u001b[39mmascaras_geradas)\n",
      "\u001b[1;31mAttributeError\u001b[0m: 'SamGeo' object has no attribute 'predict_batch'"
     ]
    }
   ],
   "source": [
    "sam.predict(point_coords, point_labels=1, point_crs=\"EPSG:31982\", output=mascaras_geradas)\n"
   ]
  },
  {
   "cell_type": "code",
   "execution_count": 8,
   "metadata": {},
   "outputs": [
    {
     "data": {
      "application/vnd.jupyter.widget-view+json": {
       "model_id": "165f2909c3ee45a9a5de39ae90276def",
       "version_major": 2,
       "version_minor": 0
      },
      "text/plain": [
       "Map(center=[735612.138252, 7018831.894886], controls=(ZoomControl(options=['position', 'zoom_in_text', 'zoom_i…"
      ]
     },
     "metadata": {},
     "output_type": "display_data"
    }
   ],
   "source": [
    "m = leafmap.Map(center=point_coords[0], zoom=19, height=\"400px\")\n",
    "m.add_basemap(\"SATELLITE\")\n",
    "m.layers[-1].visible = False\n",
    "\n",
    "m.add_raster(image, layer_name=\"Image\")\n",
    "\n",
    "m.add_raster(mascaras_geradas, layer_name=\"Mask1\", nodata=0, cmap=\"Blues\", opacity=1)\n",
    "\n",
    "m"
   ]
  }
 ],
 "metadata": {
  "kernelspec": {
   "display_name": "torch",
   "language": "python",
   "name": "python3"
  },
  "language_info": {
   "codemirror_mode": {
    "name": "ipython",
    "version": 3
   },
   "file_extension": ".py",
   "mimetype": "text/x-python",
   "name": "python",
   "nbconvert_exporter": "python",
   "pygments_lexer": "ipython3",
   "version": "3.11.5"
  }
 },
 "nbformat": 4,
 "nbformat_minor": 2
}
