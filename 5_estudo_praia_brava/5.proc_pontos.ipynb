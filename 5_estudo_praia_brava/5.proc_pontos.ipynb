{
 "cells": [
  {
   "cell_type": "code",
   "execution_count": 1,
   "metadata": {},
   "outputs": [],
   "source": [
    "import os\n",
    "import leafmap\n",
    "from samgeo import SamGeo, tms_to_geotiff\n",
    "from datetime import datetime\n",
    "import json"
   ]
  },
  {
   "cell_type": "code",
   "execution_count": 2,
   "metadata": {},
   "outputs": [],
   "source": [
    "# Obtendo a data e hora atual\n",
    "now = datetime.now()\n",
    "formatted_date = now.strftime(\"%Y_%m_%d_%H_%M\")\n",
    "\n",
    "\n",
    "def extract_coordinates(geojson_file):\n",
    "    with open(geojson_file, 'r') as file:\n",
    "        data = json.load(file)\n",
    "\n",
    "    point_coords = []\n",
    "    for feature in data['features']:\n",
    "        if feature['geometry']['type'] == 'Point':\n",
    "            point_coords.append(feature['geometry']['coordinates'])\n",
    "\n",
    "    return point_coords"
   ]
  },
  {
   "cell_type": "markdown",
   "metadata": {},
   "source": [
    "### Modelo"
   ]
  },
  {
   "cell_type": "code",
   "execution_count": 3,
   "metadata": {},
   "outputs": [],
   "source": [
    "# vit_b(91M), vit_l(308M), vit_h(636M)\n",
    "\n",
    "sam = SamGeo(\n",
    "    model_type=\"vit_b\",\n",
    "    automatic=False,\n",
    "    sam_kwargs=None,\n",
    ")"
   ]
  },
  {
   "cell_type": "markdown",
   "metadata": {},
   "source": [
    "### Imagem a ser segmentada"
   ]
  },
  {
   "cell_type": "code",
   "execution_count": 4,
   "metadata": {},
   "outputs": [],
   "source": [
    "# imagem\n",
    "\n",
    "image = \"dados_google_earth/2004_07_recorte.tif\"\n",
    "\n",
    "# pasta saída, arquivo saída\n",
    "\n",
    "pasta_saida = f'saida/mascaras_por_ponto/{os.path.splitext(os.path.basename(image))[0]}'\n",
    "\n",
    "os.makedirs(pasta_saida, exist_ok=True)\n",
    "\n",
    "mascaras_geradas = f'{pasta_saida}/mascaras_{formatted_date}.tif'"
   ]
  },
  {
   "cell_type": "code",
   "execution_count": 5,
   "metadata": {},
   "outputs": [],
   "source": [
    "sam.set_image(image)"
   ]
  },
  {
   "cell_type": "code",
   "execution_count": 6,
   "metadata": {},
   "outputs": [
    {
     "name": "stdout",
     "output_type": "stream",
     "text": [
      "[[735311.953296, 7016394.137161], [735311.953296, 7016326.969348], [735315.519729, 7016260.39594], [735320.274972, 7016202.144208], [735330.379864, 7016141.514855], [735351.184054, 7016058.8925], [735361.883352, 7016022.633769], [735364.855379, 7016014.312093]]\n"
     ]
    }
   ],
   "source": [
    "# pontos e detecção\n",
    "\n",
    "point_coords = extract_coordinates(\n",
    "    \"dados_drone/2023_12.geojson\")\n",
    "\n",
    "print(point_coords)"
   ]
  },
  {
   "cell_type": "code",
   "execution_count": 7,
   "metadata": {},
   "outputs": [],
   "source": [
    "sam.predict(point_coords, point_labels=1,\n",
    "            point_crs=\"EPSG:31982\", output=mascaras_geradas)"
   ]
  },
  {
   "cell_type": "code",
   "execution_count": 8,
   "metadata": {},
   "outputs": [],
   "source": [
    "# m = leafmap.Map(center=point_coords[0], zoom=19, height=\"400px\")\n",
    "# m.add_basemap(\"SATELLITE\")\n",
    "# m.layers[-1].visible = False\n",
    "#\n",
    "# m.add_raster(image, layer_name=\"Image\")\n",
    "#\n",
    "# m.add_raster(mascaras_geradas, layer_name=\"Mask1\",\n",
    "#              nodata=0, cmap=\"Blues\", opacity=1)\n",
    "#\n",
    "# m"
   ]
  }
 ],
 "metadata": {
  "kernelspec": {
   "display_name": "torch",
   "language": "python",
   "name": "python3"
  },
  "language_info": {
   "codemirror_mode": {
    "name": "ipython",
    "version": 3
   },
   "file_extension": ".py",
   "mimetype": "text/x-python",
   "name": "python",
   "nbconvert_exporter": "python",
   "pygments_lexer": "ipython3",
   "version": "3.11.6"
  }
 },
 "nbformat": 4,
 "nbformat_minor": 2
}
