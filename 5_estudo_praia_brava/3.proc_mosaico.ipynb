{
 "cells": [
  {
   "cell_type": "code",
   "execution_count": 1,
   "metadata": {},
   "outputs": [],
   "source": [
    "import os\n",
    "from samgeo import tms_to_geotiff, split_raster\n",
    "from samgeo.text_sam import LangSAM"
   ]
  },
  {
   "cell_type": "code",
   "execution_count": 2,
   "metadata": {},
   "outputs": [],
   "source": [
    "# imagem\n",
    "\n",
    "image = '/Users/jac/Documents/temp/imgs_drone_praia_brava/100_mosaico_recorte.tif'\n",
    "# image = '/Users/jac/Documents/temp/imgs_drone_praia_brava/101_georref/DJI_0001_georeferenced.png'"
   ]
  },
  {
   "cell_type": "code",
   "execution_count": 3,
   "metadata": {},
   "outputs": [],
   "source": [
    "# criar diretórios se não existirem\n",
    "\n",
    "def check_and_create_directories(pasta):\n",
    "    print(pasta)\n",
    "    # Testar pela existência de pasta_saida e criar se não existir\n",
    "    if not os.path.exists(pasta):\n",
    "        os.makedirs(pasta)"
   ]
  },
  {
   "cell_type": "code",
   "execution_count": 4,
   "metadata": {},
   "outputs": [
    {
     "name": "stdout",
     "output_type": "stream",
     "text": [
      "saida/processamento_mosaico/person_0.4_0.4\n",
      "saida/processamento_mosaico/person_0.4_0.4/tiles\n",
      "saida/processamento_mosaico/person_0.4_0.4/masks\n"
     ]
    }
   ],
   "source": [
    "# argumentos\n",
    "\n",
    "text_prompt = \"person\"\n",
    "\n",
    "box_t = 0.4\n",
    "\n",
    "text_t = 0.4\n",
    "\n",
    "pasta_saida = f'saida/processamento_mosaico/{text_prompt.replace(\" \", \"_\")}_{box_t}_{text_t}'\n",
    "\n",
    "pasta_tiles = f'{pasta_saida}/tiles'\n",
    "\n",
    "mascaras_saida = f'{pasta_saida}/masks'\n",
    "\n",
    "check_and_create_directories(pasta_saida)\n",
    "check_and_create_directories(pasta_tiles)\n",
    "check_and_create_directories(mascaras_saida)"
   ]
  },
  {
   "cell_type": "code",
   "execution_count": 5,
   "metadata": {},
   "outputs": [],
   "source": [
    "# dividir em pedaços menores, lidar com restrições de memória\n",
    "\n",
    "split_raster(image, out_dir=pasta_tiles, tile_size=(1000, 1000), overlap=0)"
   ]
  },
  {
   "cell_type": "code",
   "execution_count": 6,
   "metadata": {},
   "outputs": [
    {
     "name": "stdout",
     "output_type": "stream",
     "text": [
      "final text_encoder_type: bert-base-uncased\n"
     ]
    }
   ],
   "source": [
    "# carregar o modelo de segmentação\n",
    "# escolha do modelo\n",
    "# vit_b(91M), vit_l(308M), vit_h(636M)\n",
    "\n",
    "sam = LangSAM(model_type='vit_b')"
   ]
  },
  {
   "cell_type": "code",
   "execution_count": 7,
   "metadata": {},
   "outputs": [
    {
     "name": "stdout",
     "output_type": "stream",
     "text": [
      "Processing image 01 of 35: saida/processamento_mosaico/person_0.4_0.4/tiles/tile_0_0.tif...\n",
      "Processing image 02 of 35: saida/processamento_mosaico/person_0.4_0.4/tiles/tile_0_1.tif...\n",
      "No objects found in the image.\n",
      "Processing image 03 of 35: saida/processamento_mosaico/person_0.4_0.4/tiles/tile_0_2.tif...\n",
      "No objects found in the image.\n",
      "Processing image 04 of 35: saida/processamento_mosaico/person_0.4_0.4/tiles/tile_0_3.tif...\n",
      "No objects found in the image.\n",
      "Processing image 05 of 35: saida/processamento_mosaico/person_0.4_0.4/tiles/tile_0_4.tif...\n",
      "No objects found in the image.\n",
      "Processing image 06 of 35: saida/processamento_mosaico/person_0.4_0.4/tiles/tile_1_0.tif...\n",
      "No objects found in the image.\n",
      "Processing image 07 of 35: saida/processamento_mosaico/person_0.4_0.4/tiles/tile_1_1.tif...\n",
      "Processing image 08 of 35: saida/processamento_mosaico/person_0.4_0.4/tiles/tile_1_2.tif...\n",
      "Processing image 09 of 35: saida/processamento_mosaico/person_0.4_0.4/tiles/tile_1_3.tif...\n",
      "No objects found in the image.\n",
      "Processing image 10 of 35: saida/processamento_mosaico/person_0.4_0.4/tiles/tile_1_4.tif...\n",
      "No objects found in the image.\n",
      "Processing image 11 of 35: saida/processamento_mosaico/person_0.4_0.4/tiles/tile_2_0.tif...\n",
      "Processing image 12 of 35: saida/processamento_mosaico/person_0.4_0.4/tiles/tile_2_1.tif...\n",
      "Processing image 13 of 35: saida/processamento_mosaico/person_0.4_0.4/tiles/tile_2_2.tif...\n",
      "No objects found in the image.\n",
      "Processing image 14 of 35: saida/processamento_mosaico/person_0.4_0.4/tiles/tile_2_3.tif...\n",
      "No objects found in the image.\n",
      "Processing image 15 of 35: saida/processamento_mosaico/person_0.4_0.4/tiles/tile_2_4.tif...\n",
      "No objects found in the image.\n",
      "Processing image 16 of 35: saida/processamento_mosaico/person_0.4_0.4/tiles/tile_3_0.tif...\n",
      "Processing image 17 of 35: saida/processamento_mosaico/person_0.4_0.4/tiles/tile_3_1.tif...\n",
      "No objects found in the image.\n",
      "Processing image 18 of 35: saida/processamento_mosaico/person_0.4_0.4/tiles/tile_3_2.tif...\n",
      "Processing image 19 of 35: saida/processamento_mosaico/person_0.4_0.4/tiles/tile_3_3.tif...\n",
      "Processing image 20 of 35: saida/processamento_mosaico/person_0.4_0.4/tiles/tile_3_4.tif...\n",
      "No objects found in the image.\n",
      "Processing image 21 of 35: saida/processamento_mosaico/person_0.4_0.4/tiles/tile_4_0.tif...\n",
      "Processing image 22 of 35: saida/processamento_mosaico/person_0.4_0.4/tiles/tile_4_1.tif...\n",
      "Processing image 23 of 35: saida/processamento_mosaico/person_0.4_0.4/tiles/tile_4_2.tif...\n",
      "Processing image 24 of 35: saida/processamento_mosaico/person_0.4_0.4/tiles/tile_4_3.tif...\n",
      "Processing image 25 of 35: saida/processamento_mosaico/person_0.4_0.4/tiles/tile_4_4.tif...\n",
      "Processing image 26 of 35: saida/processamento_mosaico/person_0.4_0.4/tiles/tile_5_0.tif...\n",
      "Processing image 27 of 35: saida/processamento_mosaico/person_0.4_0.4/tiles/tile_5_1.tif...\n",
      "Processing image 28 of 35: saida/processamento_mosaico/person_0.4_0.4/tiles/tile_5_2.tif...\n",
      "Processing image 29 of 35: saida/processamento_mosaico/person_0.4_0.4/tiles/tile_5_3.tif...\n",
      "Processing image 30 of 35: saida/processamento_mosaico/person_0.4_0.4/tiles/tile_5_4.tif...\n",
      "Processing image 31 of 35: saida/processamento_mosaico/person_0.4_0.4/tiles/tile_6_0.tif...\n",
      "Processing image 32 of 35: saida/processamento_mosaico/person_0.4_0.4/tiles/tile_6_1.tif...\n",
      "No objects found in the image.\n",
      "Processing image 33 of 35: saida/processamento_mosaico/person_0.4_0.4/tiles/tile_6_2.tif...\n",
      "No objects found in the image.\n",
      "Processing image 34 of 35: saida/processamento_mosaico/person_0.4_0.4/tiles/tile_6_3.tif...\n",
      "Processing image 35 of 35: saida/processamento_mosaico/person_0.4_0.4/tiles/tile_6_4.tif...\n",
      "Saved the merged prediction to saida/processamento_mosaico/person_0.4_0.4/masks/merged.tif.\n"
     ]
    }
   ],
   "source": [
    "mascaras = sam.predict_batch(\n",
    "    images=pasta_tiles,\n",
    "    out_dir=mascaras_saida,\n",
    "    text_prompt=text_prompt,\n",
    "    box_threshold=box_t,\n",
    "    text_threshold=text_t,\n",
    "    mask_multiplier=255,\n",
    "    dtype='uint8',\n",
    "    merge=True,\n",
    "    verbose=True\n",
    ")"
   ]
  },
  {
   "cell_type": "code",
   "execution_count": 8,
   "metadata": {},
   "outputs": [],
   "source": [
    "# exportar a máscara para um shapefile\n",
    "\n",
    "sam.raster_to_vector(f'{mascaras_saida}/merged.tif',\n",
    "                     f'{pasta_saida}/{text_prompt.replace(\" \", \"_\")}_{box_t}_{text_t}.shp')"
   ]
  }
 ],
 "metadata": {
  "kernelspec": {
   "display_name": "torch",
   "language": "python",
   "name": "python3"
  },
  "language_info": {
   "codemirror_mode": {
    "name": "ipython",
    "version": 3
   },
   "file_extension": ".py",
   "mimetype": "text/x-python",
   "name": "python",
   "nbconvert_exporter": "python",
   "pygments_lexer": "ipython3",
   "version": "3.11.6"
  }
 },
 "nbformat": 4,
 "nbformat_minor": 2
}
