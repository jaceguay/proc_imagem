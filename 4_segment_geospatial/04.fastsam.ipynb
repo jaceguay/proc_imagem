{
 "cells": [
  {
   "cell_type": "code",
   "execution_count": 1,
   "metadata": {},
   "outputs": [],
   "source": [
    "# %conda install pytorch torchvision -c pytorch\n",
    "# %conda install gdal\n",
    "# %pip install segment-geospatial segment-anything-fast"
   ]
  },
  {
   "cell_type": "code",
   "execution_count": 2,
   "metadata": {},
   "outputs": [],
   "source": [
    "# import leafmap\n",
    "from samgeo import tms_to_geotiff\n",
    "from samgeo.fast_sam import SamGeo"
   ]
  },
  {
   "cell_type": "code",
   "execution_count": 3,
   "metadata": {},
   "outputs": [],
   "source": [
    "# carregar modelo\n",
    "\n",
    "sam = SamGeo(model=\"FastSAM-x.pt\")"
   ]
  },
  {
   "cell_type": "code",
   "execution_count": 8,
   "metadata": {},
   "outputs": [],
   "source": [
    "# carregar imagem\n",
    "\n",
    "caminho_imagem = 'imgs_teste/fotos_geotag/'\n",
    "arquivo_entrada = 'DJI_0425_georeferenced.png'\n",
    "arquivo_saida = caminho_imagem+arquivo_entrada+'mascara'+'.tif'\n",
    "\n",
    "image = caminho_imagem + arquivo_entrada"
   ]
  },
  {
   "cell_type": "code",
   "execution_count": 6,
   "metadata": {},
   "outputs": [
    {
     "name": "stderr",
     "output_type": "stream",
     "text": [
      "\n",
      "image 1/1 /Users/jac/Documents/git/proc_imagem/4_segment_geospatial/imgs_teste/fotos_geotag/DJI_0425_georeferenced.png: 704x1024 288 objects, 1791.6ms\n",
      "Speed: 7.2ms preprocess, 1791.6ms inference, 248.0ms postprocess per image at shape (1, 3, 704, 1024)\n"
     ]
    }
   ],
   "source": [
    "sam.set_image(image)"
   ]
  },
  {
   "cell_type": "code",
   "execution_count": 10,
   "metadata": {},
   "outputs": [],
   "source": [
    "# definir parametros\n",
    "\n",
    "text_prompt = \"person\"\n",
    "\n",
    "box_t = 0.15\n",
    "\n",
    "text_t = 0.15"
   ]
  },
  {
   "cell_type": "code",
   "execution_count": 11,
   "metadata": {},
   "outputs": [],
   "source": [
    "sam.everything_prompt(image=image,\n",
    "                      text_prompt=text_prompt,\n",
    "                      box_threshold=box_t,\n",
    "                      text_threshold=text_t,\n",
    "                      output=arquivo_saida)"
   ]
  },
  {
   "cell_type": "code",
   "execution_count": 18,
   "metadata": {},
   "outputs": [],
   "source": [
    "sam.show_anns(arquivo_saida)"
   ]
  }
 ],
 "metadata": {
  "kernelspec": {
   "display_name": "torch",
   "language": "python",
   "name": "python3"
  },
  "language_info": {
   "codemirror_mode": {
    "name": "ipython",
    "version": 3
   },
   "file_extension": ".py",
   "mimetype": "text/x-python",
   "name": "python",
   "nbconvert_exporter": "python",
   "pygments_lexer": "ipython3",
   "version": "3.11.6"
  }
 },
 "nbformat": 4,
 "nbformat_minor": 2
}
