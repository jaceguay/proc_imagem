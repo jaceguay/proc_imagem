{
 "cells": [
  {
   "cell_type": "markdown",
   "metadata": {},
   "source": [
    "### Segment Geospatial (samgeo)"
   ]
  },
  {
   "cell_type": "code",
   "execution_count": null,
   "metadata": {},
   "outputs": [],
   "source": [
    "#conda install pytorch torchvision -c pytorch\n",
    "#pip install segment-geospatial groundingdino-py leafmap localtileserver\n",
    "#conda install gdal\n"
   ]
  },
  {
   "cell_type": "code",
   "execution_count": null,
   "metadata": {},
   "outputs": [],
   "source": [
    "from samgeo import tms_to_geotiff, split_raster\n",
    "from samgeo.text_sam import LangSAM\n",
    "# import leafmap\n"
   ]
  },
  {
   "cell_type": "code",
   "execution_count": null,
   "metadata": {},
   "outputs": [],
   "source": [
    "# imagem local\n",
    "\n",
    "image = \"D:\\\\drone_img_sam\\\\levantamento 2309-1\\\\jpg\\\\0800.jpeg\""
   ]
  },
  {
   "cell_type": "code",
   "execution_count": null,
   "metadata": {},
   "outputs": [],
   "source": [
    "# dividir em pedaços menores, lidar com restrições de memória\n",
    "\n",
    "split_raster(image, out_dir=\"tiles\", tile_size=(2000, 2000), overlap=10)"
   ]
  },
  {
   "cell_type": "code",
   "execution_count": null,
   "metadata": {},
   "outputs": [],
   "source": [
    "# carregar o modelo de segmentação\n",
    "\n",
    "sam = LangSAM(model_type='vit_h')"
   ]
  },
  {
   "cell_type": "code",
   "execution_count": null,
   "metadata": {},
   "outputs": [],
   "source": [
    "text_prompt = \"person\"\n",
    "\n",
    "box_t = 0.35\n",
    "\n",
    "text_t =0.35"
   ]
  },
  {
   "cell_type": "code",
   "execution_count": null,
   "metadata": {},
   "outputs": [],
   "source": [
    "mascaras = sam.predict_batch(\n",
    "    images='tiles',\n",
    "    out_dir='masks',\n",
    "    text_prompt=text_prompt,\n",
    "    box_threshold=box_t,\n",
    "    text_threshold=text_t,\n",
    "    mask_multiplier=255,\n",
    "    dtype='uint8',\n",
    "    merge=True,\n",
    "    verbose=True,\n",
    ")"
   ]
  },
  {
   "cell_type": "code",
   "execution_count": null,
   "metadata": {},
   "outputs": [],
   "source": [
    "# criar um mapa para visualizar os resultados\n",
    "\n",
    "# m = leafmap.Map(center=[-27.4349, -48.3917], zoom=17, height=\"500px\")\n",
    "# m.add_basemap(\"SATELLITE\")\n",
    "# m.add_raster(image, nodata=0, layer_name='Img')\n",
    "# m.add_layer_manager()"
   ]
  },
  {
   "cell_type": "code",
   "execution_count": null,
   "metadata": {},
   "outputs": [],
   "source": [
    "# adicionar a máscara final a visualização\n",
    "\n",
    "# m.add_raster('masks/merged.tif', cmap='summer', nodata=0, layer_name='Mask')\n",
    "# m"
   ]
  },
  {
   "cell_type": "code",
   "execution_count": null,
   "metadata": {},
   "outputs": [],
   "source": [
    "# exportar a máscara para um shapefile\n",
    "\n",
    "sam.raster_to_vector(\"masks/merged.tif\", \"output/merged.shp\")"
   ]
  },
  {
   "cell_type": "code",
   "execution_count": null,
   "metadata": {},
   "outputs": [],
   "source": [
    "# style = {\n",
    "#     \"color\": \"#3388ff\",\n",
    "#     \"weight\": 2,\n",
    "#     \"fillColor\": \"#7c4185\",\n",
    "#     \"fillOpacity\": 0.5,\n",
    "# }\n",
    "# m.add_vector(\"output/merged.shp\", layer_name=\"Vector\", style=style)\n",
    "# m"
   ]
  }
 ],
 "metadata": {
  "kernelspec": {
   "display_name": "torch",
   "language": "python",
   "name": "python3"
  },
  "language_info": {
   "codemirror_mode": {
    "name": "ipython",
    "version": 3
   },
   "file_extension": ".py",
   "mimetype": "text/x-python",
   "name": "python",
   "nbconvert_exporter": "python",
   "pygments_lexer": "ipython3",
   "version": "3.11.5"
  }
 },
 "nbformat": 4,
 "nbformat_minor": 2
}
