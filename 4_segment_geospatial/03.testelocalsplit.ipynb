{
 "cells": [
  {
   "cell_type": "markdown",
   "metadata": {},
   "source": [
    "### Segment Geospatial (samgeo)"
   ]
  },
  {
   "cell_type": "code",
   "execution_count": 1,
   "metadata": {},
   "outputs": [],
   "source": [
    "#conda install pytorch torchvision -c pytorch\n",
    "#pip install segment-geospatial groundingdino-py leafmap localtileserver\n",
    "#conda install gdal\n"
   ]
  },
  {
   "cell_type": "code",
   "execution_count": 1,
   "metadata": {},
   "outputs": [],
   "source": [
    "from samgeo import tms_to_geotiff, split_raster\n",
    "from samgeo.text_sam import LangSAM\n",
    "import leafmap\n"
   ]
  },
  {
   "cell_type": "code",
   "execution_count": 10,
   "metadata": {},
   "outputs": [],
   "source": [
    "# imagem local\n",
    "\n",
    "image = \"../1_estudo_segmentar_cores/DJI_0128.tif\""
   ]
  },
  {
   "cell_type": "code",
   "execution_count": 4,
   "metadata": {},
   "outputs": [],
   "source": [
    "# dividir em pedaços menors, lidar com restrições de memória\n",
    "\n",
    "split_raster(image, out_dir=\"tiles\", tile_size=(1000, 1000), overlap=0)"
   ]
  },
  {
   "cell_type": "code",
   "execution_count": 16,
   "metadata": {},
   "outputs": [
    {
     "name": "stdout",
     "output_type": "stream",
     "text": [
      "final text_encoder_type: bert-base-uncased\n"
     ]
    }
   ],
   "source": [
    "# carregar o modelo de segmentação\n",
    "\n",
    "sam = LangSAM(model_type='vit_l')"
   ]
  },
  {
   "cell_type": "code",
   "execution_count": 6,
   "metadata": {},
   "outputs": [],
   "source": [
    "# prompt de texto do objeto a ser detectado\n",
    "\n",
    "text_prompt = \"human\""
   ]
  },
  {
   "cell_type": "code",
   "execution_count": 7,
   "metadata": {},
   "outputs": [
    {
     "name": "stdout",
     "output_type": "stream",
     "text": [
      "Processing image 01 of 49: tiles/tile_0_0.tif...\n",
      "No objects found in the image.\n",
      "Processing image 02 of 49: tiles/tile_0_1.tif...\n",
      "No objects found in the image.\n",
      "Processing image 03 of 49: tiles/tile_0_2.tif...\n",
      "Processing image 04 of 49: tiles/tile_0_3.tif...\n",
      "Processing image 05 of 49: tiles/tile_0_4.tif...\n",
      "No objects found in the image.\n",
      "Processing image 06 of 49: tiles/tile_0_5.tif...\n",
      "No objects found in the image.\n",
      "Processing image 07 of 49: tiles/tile_0_6.tif...\n",
      "No objects found in the image.\n",
      "Processing image 08 of 49: tiles/tile_1_0.tif...\n",
      "No objects found in the image.\n",
      "Processing image 09 of 49: tiles/tile_1_1.tif...\n",
      "Processing image 10 of 49: tiles/tile_1_2.tif...\n",
      "Processing image 11 of 49: tiles/tile_1_3.tif...\n",
      "No objects found in the image.\n",
      "Processing image 12 of 49: tiles/tile_1_4.tif...\n",
      "Processing image 13 of 49: tiles/tile_1_5.tif...\n",
      "No objects found in the image.\n",
      "Processing image 14 of 49: tiles/tile_1_6.tif...\n",
      "No objects found in the image.\n",
      "Processing image 15 of 49: tiles/tile_2_0.tif...\n",
      "Processing image 16 of 49: tiles/tile_2_1.tif...\n",
      "Processing image 17 of 49: tiles/tile_2_2.tif...\n",
      "Processing image 18 of 49: tiles/tile_2_3.tif...\n",
      "Processing image 19 of 49: tiles/tile_2_4.tif...\n",
      "No objects found in the image.\n",
      "Processing image 20 of 49: tiles/tile_2_5.tif...\n",
      "Processing image 21 of 49: tiles/tile_2_6.tif...\n",
      "Processing image 22 of 49: tiles/tile_3_0.tif...\n",
      "No objects found in the image.\n",
      "Processing image 23 of 49: tiles/tile_3_1.tif...\n",
      "No objects found in the image.\n",
      "Processing image 24 of 49: tiles/tile_3_2.tif...\n",
      "Processing image 25 of 49: tiles/tile_3_3.tif...\n",
      "Processing image 26 of 49: tiles/tile_3_4.tif...\n",
      "Processing image 27 of 49: tiles/tile_3_5.tif...\n",
      "Processing image 28 of 49: tiles/tile_3_6.tif...\n",
      "Processing image 29 of 49: tiles/tile_4_0.tif...\n",
      "No objects found in the image.\n",
      "Processing image 30 of 49: tiles/tile_4_1.tif...\n",
      "No objects found in the image.\n",
      "Processing image 31 of 49: tiles/tile_4_2.tif...\n",
      "No objects found in the image.\n",
      "Processing image 32 of 49: tiles/tile_4_3.tif...\n",
      "Processing image 33 of 49: tiles/tile_4_4.tif...\n",
      "Processing image 34 of 49: tiles/tile_4_5.tif...\n",
      "Processing image 35 of 49: tiles/tile_4_6.tif...\n",
      "No objects found in the image.\n",
      "Processing image 36 of 49: tiles/tile_5_0.tif...\n",
      "No objects found in the image.\n",
      "Processing image 37 of 49: tiles/tile_5_1.tif...\n",
      "No objects found in the image.\n",
      "Processing image 38 of 49: tiles/tile_5_2.tif...\n",
      "No objects found in the image.\n",
      "Processing image 39 of 49: tiles/tile_5_3.tif...\n",
      "Processing image 40 of 49: tiles/tile_5_4.tif...\n",
      "Processing image 41 of 49: tiles/tile_5_5.tif...\n",
      "Processing image 42 of 49: tiles/tile_5_6.tif...\n",
      "No objects found in the image.\n",
      "Processing image 43 of 49: tiles/tile_6_0.tif...\n",
      "No objects found in the image.\n",
      "Processing image 44 of 49: tiles/tile_6_1.tif...\n",
      "No objects found in the image.\n",
      "Processing image 45 of 49: tiles/tile_6_2.tif...\n",
      "No objects found in the image.\n",
      "Processing image 46 of 49: tiles/tile_6_3.tif...\n",
      "Processing image 47 of 49: tiles/tile_6_4.tif...\n",
      "Processing image 48 of 49: tiles/tile_6_5.tif...\n",
      "No objects found in the image.\n",
      "Processing image 49 of 49: tiles/tile_6_6.tif...\n",
      "No objects found in the image.\n",
      "Saved the merged prediction to masks/merged.tif.\n"
     ]
    }
   ],
   "source": [
    "mascaras = sam.predict_batch(\n",
    "    images='tiles',\n",
    "    out_dir='masks',\n",
    "    text_prompt=text_prompt,\n",
    "    box_threshold=0.1,\n",
    "    text_threshold=0.1,\n",
    "    mask_multiplier=255,\n",
    "    dtype='uint8',\n",
    "    merge=True,\n",
    "    verbose=True,\n",
    ")"
   ]
  },
  {
   "cell_type": "code",
   "execution_count": 11,
   "metadata": {},
   "outputs": [],
   "source": [
    "# criar um mapa para visualizar os resultados\n",
    "\n",
    "m = leafmap.Map(center=[-27.4349, -48.3917], zoom=17, height=\"500px\")\n",
    "# m.add_basemap(\"SATELLITE\")\n",
    "m.add_raster(image, nodata=0, layer_name='Img')\n",
    "m.add_layer_manager()"
   ]
  },
  {
   "cell_type": "code",
   "execution_count": 14,
   "metadata": {},
   "outputs": [
    {
     "data": {
      "application/vnd.jupyter.widget-view+json": {
       "model_id": "927c0973e6854f50aebf19442ab91165",
       "version_major": 2,
       "version_minor": 0
      },
      "text/plain": [
       "Map(bottom=311009239.0, center=[-27.435140809036554, -48.3915701508522], controls=(ZoomControl(options=['posit…"
      ]
     },
     "execution_count": 14,
     "metadata": {},
     "output_type": "execute_result"
    }
   ],
   "source": [
    "# adicionar a máscara final a visualização\n",
    "\n",
    "m.add_raster('masks/merged.tif', cmap='summer', nodata=0, layer_name='Mask')\n",
    "#m"
   ]
  },
  {
   "cell_type": "code",
   "execution_count": 17,
   "metadata": {},
   "outputs": [],
   "source": [
    "# exportar a máscara para um shapefile\n",
    "\n",
    "sam.raster_to_vector(\"masks/merged.tif\", \"output/merged.shp\")"
   ]
  },
  {
   "cell_type": "code",
   "execution_count": 19,
   "metadata": {},
   "outputs": [
    {
     "data": {
      "application/vnd.jupyter.widget-view+json": {
       "model_id": "927c0973e6854f50aebf19442ab91165",
       "version_major": 2,
       "version_minor": 0
      },
      "text/plain": [
       "Map(bottom=311009108.0, center=[-27.43482479071428, -48.39175455272198], controls=(ZoomControl(options=['posit…"
      ]
     },
     "execution_count": 19,
     "metadata": {},
     "output_type": "execute_result"
    }
   ],
   "source": [
    "style = {\n",
    "    \"color\": \"#3388ff\",\n",
    "    \"weight\": 2,\n",
    "    \"fillColor\": \"#7c4185\",\n",
    "    \"fillOpacity\": 0.5,\n",
    "}\n",
    "m.add_vector(\"output/merged.shp\", layer_name=\"Vector\", style=style)\n",
    "m"
   ]
  }
 ],
 "metadata": {
  "kernelspec": {
   "display_name": "torch",
   "language": "python",
   "name": "python3"
  },
  "language_info": {
   "codemirror_mode": {
    "name": "ipython",
    "version": 3
   },
   "file_extension": ".py",
   "mimetype": "text/x-python",
   "name": "python",
   "nbconvert_exporter": "python",
   "pygments_lexer": "ipython3",
   "version": "3.11.6"
  }
 },
 "nbformat": 4,
 "nbformat_minor": 2
}
